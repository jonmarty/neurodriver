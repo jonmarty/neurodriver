{
 "cells": [
  {
   "cell_type": "markdown",
   "metadata": {},
   "source": [
    "# Mapping a Network of LPUs onto Multiple GPUs"
   ]
  },
  {
   "cell_type": "markdown",
   "metadata": {},
   "source": [
    "This notebook illustrates how to connect and execute several generic LPUs on multiple GPUs."
   ]
  },
  {
   "cell_type": "markdown",
   "metadata": {},
   "source": [
    "### Background"
   ]
  },
  {
   "cell_type": "markdown",
   "metadata": {},
   "source": [
    "Neurokernel's architecture enables one to specify complex networks of LPUs that interact via different connectivity patterns and map the LPUs to individual GPUs. This functionality is essential both to express models of the entire fly brain in terms of their constituent processing units and to the development of future resource allocation mechanisms that will be able to take advantage of available GPU resources in an automated manner."
   ]
  },
  {
   "cell_type": "markdown",
   "metadata": {},
   "source": [
    "<img src='files/files/lpu-network.jpg' />"
   ]
  },
  {
   "cell_type": "markdown",
   "metadata": {},
   "source": [
    "### Constructing an LPU Network"
   ]
  },
  {
   "cell_type": "markdown",
   "metadata": {},
   "source": [
    "Since each LPU instance in a multi-LPU model must possess a unique identifier, construction of an LPU network is a matter of instantiating connectivity patterns between those pairs of LPUs that one wishes to connect and populating them with data describing the connections between ports exposed by the respective LPUs.\n",
    "\n",
    "In the example below, we first create an input signal and instantiate N generic LPUs containing fixed numbers of local and projection neurons. Each LPU is configured to run on a different GPU (where the at least N GPUs are assumed to be available). Notice that only one LPU receives the input signal:"
   ]
  },
  {
   "cell_type": "code",
   "execution_count": null,
   "metadata": {},
   "outputs": [],
   "source": [
    "import itertools\n",
    "import random\n",
    "import numpy as np\n",
    "import sys\n",
    "sys.path.append(\"../examples/multi/data\")\n",
    "\n",
    "import gen_generic_lpu as g\n",
    "\n",
    "import neurokernel.core_gpu as core_gpu\n",
    "from neurokernel.tools.zmq import get_random_port\n",
    "\n",
    "import neurokernel.pattern as pattern\n",
    "import neurokernel.plsel as plsel\n",
    "from neurokernel.LPU.LPU import LPU\n",
    "\n",
    "from neurokernel.LPU.InputProcessors.FileInputProcessor import FileInputProcessor\n",
    "from neurokernel.LPU.OutputProcessors.FileOutputProcessor import FileOutputProcessor\n",
    "\n",
    "# Execution parameters:\n",
    "dt = 1e-4\n",
    "dur = 1.0\n",
    "start = 0.3\n",
    "stop = 0.6\n",
    "I_max = 0.6\n",
    "steps = int(dur/dt)\n",
    "\n",
    "N_sensory = 30  # number of sensory neurons\n",
    "N_local = 30    # number of local neurons\n",
    "N_output = 30   # number of projection neurons\n",
    "N = 3           # number of LPUs\n",
    "\n",
    "#Settings:\n",
    "debug = False\n",
    "time_sync = False\n",
    "\n",
    "# Only LPU 0 receives input and should therefore be associated with a population                                   \n",
    "# of sensory neurons:  \n",
    "neu_dict = {i: [0, N_local, N_output] for i in xrange(N)}\n",
    "\n",
    "# Only LPU 0 receives input and should therefore be associated with a population\n",
    "# of sensory neurons:\n",
    "neu_dict[0][0] = N_sensory\n",
    "\n",
    "# Initialize RNG:\n",
    "random.seed(0)\n",
    "np.random.seed(0)\n",
    "\n",
    "# Create input signal for LPU 0:\n",
    "in_file_name_0 = 'generic_input.h5'\n",
    "g.create_input(in_file_name_0, neu_dict[0][0], dt, dur, start, stop, I_max)\n",
    "\n",
    "# Store info for all instantiated LPUs in the following dict:\n",
    "lpu_dict = {}\n",
    "\n",
    "# Set up several LPUs:\n",
    "man = core_gpu.Manager()\n",
    "for i, neu_num in neu_dict.iteritems():\n",
    "    \n",
    "    #Initialize the lpu entry\n",
    "    lpu_entry = {}\n",
    "    \n",
    "\n",
    "    #First LPU is fed the input data\n",
    "    if i == 0:\n",
    "        print(\"Processing LPU: %d\" % i)\n",
    "        in_file_name = in_file_name_0\n",
    "        fl_input_processors = [FileInputProcessor(in_file_name)]\n",
    "    else:\n",
    "        print(\"Processing LPU: %d\" % i)\n",
    "        in_file_name = None\n",
    "        fl_input_processors = []\n",
    "    \n",
    "    \n",
    "    lpu_file_name = 'generic_lpu_%s.gexf.gz' % i\n",
    "\n",
    "    out_file_name = 'generic_lpu_%s_output.h5' % i\n",
    "    \n",
    "    fl_output_processors = [FileOutputProcessor(\n",
    "                    [('V',None),('spike_state',None)],\n",
    "                    out_file_name, sample_interval=1)]\n",
    "\n",
    "    id = 'lpu_%s' % i\n",
    "\n",
    "    g.create_lpu(lpu_file_name, id, *neu_num)\n",
    "    (comp_dict, conns) = LPU.lpu_parser(lpu_file_name)\n",
    "\n",
    "    man.add(LPU, id, dt, comp_dict, conns,\n",
    "            input_processors = fl_input_processors,\n",
    "            output_processors = fl_output_processors,\n",
    "            device = i,\n",
    "            debug = debug, time_sync = time_sync)\n",
    "\n",
    "    print(\"id: %s, in_file_name: %s\" % (id,in_file_name))\n",
    "    lpu_entry['lpu_file_name'] = lpu_file_name\n",
    "    lpu_entry['in_file_name'] = in_file_name\n",
    "    lpu_entry['out_file_name'] = out_file_name\n",
    "    lpu_entry['comp_dict'] = comp_dict\n",
    "    lpu_entry['conns'] = conns\n",
    "\n",
    "    lpu_dict[id] = lpu_entry"
   ]
  },
  {
   "cell_type": "markdown",
   "metadata": {},
   "source": [
    "Each LPU exposes input and output communication ports. The generic LPU generator invoked above associates an output port with each projection neuron in an LPU and an input port with a node connected to a synapse that is in turn connected to some neuron in the LPU.\n",
    "\n",
    "Once the LPUs have been instantiated, we use information about the ports exposed by each LPU to define connectivity patterns between those LPUs we wish to connect. Notice that since the ``Pattern`` class enables one to specify connections in both directions between two LPUs, it is only necessary to consider combinations of LPUs without regard to their order. In the example below, we define connections between all pairs of LPUs in the network, i.e., the graph of all LPUs is complete, and we only connect spiking neurons exposed by the LPUs:"
   ]
  },
  {
   "cell_type": "code",
   "execution_count": null,
   "metadata": {},
   "outputs": [],
   "source": [
    "# Since each connectivity pattern between two LPUs contains the synapses in both\n",
    "# directions, create connectivity patterns between each combination of LPU\n",
    "# pairs:\n",
    "for id_0, id_1 in itertools.combinations(lpu_dict.keys(), 2):\n",
    "\n",
    "    comp_dict_0 = lpu_dict[id_0]['comp_dict']\n",
    "    comp_dict_1 = lpu_dict[id_1]['comp_dict']\n",
    "\n",
    "    # Find all output and input port selectors in each LPU:\n",
    "    out_ports_spk_0 = plsel.Selector(','.join(LPU.extract_out_spk(comp_dict_0, 'id')[0]))\n",
    "    out_ports_gpot_0 = plsel.Selector(','.join(LPU.extract_out_gpot(comp_dict_0, 'id')[0]))\n",
    "\n",
    "    out_ports_spk_1 = plsel.Selector(','.join(LPU.extract_out_spk(comp_dict_1, 'id')[0]))\n",
    "    out_ports_gpot_1 = plsel.Selector(','.join(LPU.extract_out_gpot(comp_dict_1, 'id')[0]))\n",
    "\n",
    "    in_ports_spk_0 = plsel.Selector(','.join(LPU.extract_in_spk(comp_dict_0, 'id')[0]))\n",
    "    in_ports_gpot_0 = plsel.Selector(','.join(LPU.extract_in_gpot(comp_dict_0, 'id')[0]))\n",
    "\n",
    "    in_ports_spk_1 = plsel.Selector(','.join(LPU.extract_in_spk(comp_dict_1, 'id')[0]))\n",
    "    in_ports_gpot_1 = plsel.Selector(','.join(LPU.extract_in_gpot(comp_dict_1, 'id')[0]))\n",
    "\n",
    "    out_ports_0 = plsel.Selector.union(out_ports_spk_0, out_ports_gpot_0)\n",
    "    out_ports_1 = plsel.Selector.union(out_ports_spk_1, out_ports_gpot_1)\n",
    "\n",
    "    in_ports_0 = plsel.Selector.union(in_ports_spk_0, in_ports_gpot_0)\n",
    "    in_ports_1 = plsel.Selector.union(in_ports_spk_1, in_ports_gpot_1)\n",
    "\n",
    "    # Initialize a connectivity pattern between the two sets of port\n",
    "    # selectors:\n",
    "    pat = pattern.Pattern(plsel.Selector.union(out_ports_0, in_ports_0),\n",
    "                          plsel.Selector.union(out_ports_1, in_ports_1))\n",
    "\n",
    "    # Create connections from the ports with identifiers matching the output\n",
    "    # ports of one LPU to the ports with identifiers matching the input\n",
    "    # ports of the other LPU. First, define connections from LPU0 to LPU1:\n",
    "    N_conn_spk_0_1 = min(len(out_ports_spk_0), len(in_ports_spk_1))\n",
    "    N_conn_gpot_0_1 = min(len(out_ports_gpot_0), len(in_ports_gpot_1))\n",
    "    for src, dest in zip(random.sample(out_ports_spk_0.identifiers,\n",
    "                                       N_conn_spk_0_1),\n",
    "                         random.sample(in_ports_spk_1.identifiers,\n",
    "                                       N_conn_spk_0_1)):\n",
    "        pat[src, dest] = 1\n",
    "        pat.interface[src, 'type'] = 'spike'\n",
    "        pat.interface[dest, 'type'] = 'spike'\n",
    "    for src, dest in zip(random.sample(out_ports_gpot_0.identifiers,\n",
    "                                       N_conn_gpot_0_1),\n",
    "                         random.sample(in_ports_gpot_1.identifiers,\n",
    "                                       N_conn_gpot_0_1)):\n",
    "        pat[src, dest] = 1\n",
    "        pat.interface[src, 'type'] = 'gpot'\n",
    "        pat.interface[dest, 'type'] = 'gpot'\n",
    "\n",
    "    # Next, define connections from LPU1 to LPU0:\n",
    "    N_conn_spk_1_0 = min(len(out_ports_spk_1), len(in_ports_spk_0))\n",
    "    N_conn_gpot_1_0 = min(len(out_ports_gpot_1), len(in_ports_gpot_0))\n",
    "    for src, dest in zip(random.sample(out_ports_spk_1, N_conn_spk_1_0),\n",
    "                         random.sample(in_ports_spk_0, N_conn_spk_1_0)):\n",
    "        pat[src, dest] = 1\n",
    "        pat.interface[src, 'type'] = 'spike'\n",
    "        pat.interface[dest, 'type'] = 'spike'\n",
    "    for src, dest in zip(random.sample(out_ports_gpot_1, N_conn_gpot_1_0),\n",
    "                         random.sample(in_ports_gpot_0, N_conn_gpot_1_0)):\n",
    "        pat[src, dest] = 1\n",
    "        pat.interface[src, 'type'] = 'gpot'\n",
    "        pat.interface[dest, 'type'] = 'gpot'\n",
    "\n",
    "    man.connect(id_0, id_1, pat, 0, 1)"
   ]
  },
  {
   "cell_type": "markdown",
   "metadata": {},
   "source": [
    "Once all of the connections are in place, the entire network may be executed as follows:"
   ]
  },
  {
   "cell_type": "code",
   "execution_count": null,
   "metadata": {},
   "outputs": [],
   "source": [
    "from neurokernel.tools.mpi_run import mpi_run_manager\n",
    "output = mpi_run_manager(man, steps = steps, log = False)\n",
    "print(output)"
   ]
  },
  {
   "cell_type": "markdown",
   "metadata": {},
   "source": [
    "Finally, we generate plots that depict the model execution"
   ]
  },
  {
   "cell_type": "code",
   "execution_count": null,
   "metadata": {},
   "outputs": [],
   "source": [
    "# Create input signal for LPU 0:\n",
    "in_file_name_0 = 'generic_input.h5'\n",
    "g.create_input(in_file_name_0, neu_dict[0][0], dt, dur, start, stop, I_max)\n",
    "\n",
    "import matplotlib as mpl\n",
    "mpl.use('agg')\n",
    "import matplotlib.pyplot as plt\n",
    "\n",
    "import neurokernel.LPU.utils.visualizer as vis\n",
    "import networkx as nx\n",
    "import h5py\n",
    "from IPython.display import Image\n",
    "\n",
    "# Temporary fix for bug in networkx 1.8:\n",
    "nx.readwrite.gexf.GEXF.convert_bool = \\\n",
    "    {'false':False, 'False':False,\n",
    "      'true':True, 'True':True}\n",
    "\n",
    "V = vis.visualizer()\n",
    "\n",
    "# create a plot for current input injected to 'neuron0'\n",
    "V.add_LPU('generic_input.h5', LPU='Input', is_input = True, dt = dt)\n",
    "V.add_plot({'type': 'waveform', 'uids': [['sensory_0']], 'variable': 'I', 'title': 'Input'}, 'input_Input')\n",
    "\n",
    "for i in range(N):\n",
    "    lpu_file_name = 'generic_lpu_%i.gexf.gz' % i\n",
    "\n",
    "    out_file_name = 'generic_lpu_%i_output.h5' % i\n",
    "    \n",
    "    G = nx.read_gexf(lpu_file_name)    \n",
    "    neu_proj = sorted([k for k, n in G.node.items() if \\\n",
    "                       n['name'][:4] == 'proj' and \\\n",
    "                       n['class'] == 'LeakyIAF'])    \n",
    "    \n",
    "    # create a plot for membrane potential output from 'neuron1'\n",
    "    V.add_LPU(out_file_name,\n",
    "              gexf_file= lpu_file_name, LPU='Simple LPU %i (Graded Potential)' % i, dt = dt)\n",
    "    V.add_plot({'type': 'raster', 'uids': [neu_proj], 'variable': 'spike_state', 'title': 'Output - LPU %i' % i,\n",
    "                'yticks': range(1,1+N),\n",
    "                'yticklabels': [\"\" for _ in range(1,1+N)]},\n",
    "                'Simple LPU %i (Graded Potential)' % i)\n",
    "\n",
    "V._update_interval = None\n",
    "V.rows = N + 1\n",
    "V.cols = 1\n",
    "V.fontsize = 14\n",
    "V.dt = 0.01\n",
    "V.xlim = [0, 1.0]\n",
    "V.figsize = (24, 16)\n",
    "V.run('multi_output.png')\n",
    "\n",
    "# Don't automatically display the output image:\n",
    "plt.close(plt.gcf())\n",
    "\n",
    "Image(filename = 'multi_output.png')"
   ]
  },
  {
   "cell_type": "markdown",
   "metadata": {},
   "source": [
    "The above demo can also be run in script form as follows. The parameters below specify a model comprising 30 sensory neurons connected to one LPU in a network of 3 LPUs connected to each other, each of which contains 30 local neurons and 30 output neurons:"
   ]
  },
  {
   "cell_type": "code",
   "execution_count": null,
   "metadata": {},
   "outputs": [],
   "source": [
    "%run ../examples/multi/multi_demo.py -y 30 -n 30 -o 30 -u 3"
   ]
  }
 ],
 "metadata": {
  "kernelspec": {
   "display_name": "Python 2",
   "language": "python",
   "name": "python2"
  },
  "language_info": {
   "codemirror_mode": {
    "name": "ipython",
    "version": 2
   },
   "file_extension": ".py",
   "mimetype": "text/x-python",
   "name": "python",
   "nbconvert_exporter": "python",
   "pygments_lexer": "ipython2",
   "version": "2.7.12"
  }
 },
 "nbformat": 4,
 "nbformat_minor": 1
}
