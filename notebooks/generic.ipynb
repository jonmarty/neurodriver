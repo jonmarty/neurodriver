{
 "cells": [
  {
   "cell_type": "markdown",
   "metadata": {},
   "source": [
    "# Generic Sensory LPU Demo"
   ]
  },
  {
   "cell_type": "markdown",
   "metadata": {},
   "source": [
    "This notebook illustrates how to simulate a generic LPU with input from sensory neurons. The generic LPU considered in this example serves as a template of LPU design, and can be extended to other sensory modulaties such as olfaction and vision systems. "
   ]
  },
  {
   "cell_type": "markdown",
   "metadata": {},
   "source": [
    "#### Configuration"
   ]
  },
  {
   "cell_type": "markdown",
   "metadata": {},
   "source": [
    "The generic LPU comprises two populations of neurons: local neurons and output neurons [(Chiang et al., 2011)](#chiang_three-dimensional_2011). In order to provide input into the LPU, we include sensory neurons in this demo. These sensory neurons are driven by an artificial input stimulus. The overall structure of the model is depicted as follows:"
   ]
  },
  {
   "cell_type": "markdown",
   "metadata": {},
   "source": [
    "<img src='files/files/generic_lpu.png' />"
   ]
  },
  {
   "cell_type": "markdown",
   "metadata": {},
   "source": [
    "The generic LPU employed in this example is randomly generated; between 30 and 40 neurons are included in each population. The sensory neurons and ouput neurons are modeled using the Leaky Integrate-and-Fire (LIF) neuron model, while each of the local neurons is modeled either as a spiking neuron using the LIF model or a graded potential neuron using the Morris-Lecar model. The synapses across each pairs of neuron populations are also created randomly. Roughly half of the pairs of neurons in the LPU are connected. Assuming that both the ``neurokernel`` and ``neurodriver`` package have been installed and the current working directory is ``neurodriver/notebooks``, we run the following code to generate the LPU configuration and the input stimulus:"
   ]
  },
  {
   "cell_type": "code",
   "execution_count": null,
   "metadata": {},
   "outputs": [],
   "source": [
    "import sys\n",
    "sys.path.append(\"../examples/generic/data\")\n",
    "sys.path.append(\"../examples/generic\")\n",
    "\n",
    "#Used to generate pseudo-random numbers\n",
    "import numpy as np\n",
    "\n",
    "#Randomly generates an LPU as described above\n",
    "#Sends outputted graph to a GEXF file\n",
    "from gen_generic_lpu import create_lpu\n",
    "\n",
    "#Creates an HDF5 file containing input signals for the specified number of neurons\n",
    "#The signals consist of a rectangular pulse of specified duration and magnitude\n",
    "from gen_generic_lpu import create_input\n",
    "\n",
    "#Define variables for the LPU\n",
    "random_seed = 1                                           #Random seed for numpy\n",
    "lpu_file_name = 'generic_lpu.gexf.gz'                     #File to write the LPU graph to\n",
    "lpu_name = 'test'                                         #Name of the LPU\n",
    "neu_num = [np.random.randint(31, 40) for i in xrange(3)]  #Number of sensory, local, and projection neurons\n",
    "\n",
    "#Set a random seed for numpy\n",
    "np.random.seed(random_seed)\n",
    "\n",
    "#Create the LPU\n",
    "create_lpu(file_name = lpu_file_name,\n",
    "           lpu_name = lpu_name,\n",
    "           N_sensory = neu_num[0],\n",
    "           N_local = neu_num[1],\n",
    "           N_proj = neu_num[2])\n",
    "\n",
    "#Define variables for the input\n",
    "in_file_name = 'generic_input.h5'  #File to output the generated input data to\n",
    "N_sensory = neu_num[0]             #Number of sensory neurons\n",
    "dt = 1e-4                          #Time resolution of generated signal\n",
    "dur = 1.0                          #Duration of generated signal\n",
    "start = 0.3                        #Start time of signal pulse\n",
    "stop = 0.6                         #Stop time of signal pulse\n",
    "I_max = 0.6                        #Pulse magnitude\n",
    "\n",
    "#Create the input data\n",
    "create_input(file_name = in_file_name,\n",
    "             N_sensory = N_sensory,\n",
    "             dt = dt,\n",
    "             dur = dur,\n",
    "             start = start,\n",
    "             stop = stop,\n",
    "             I_max = I_max)"
   ]
  },
  {
   "cell_type": "markdown",
   "metadata": {},
   "source": [
    "#### Simulation"
   ]
  },
  {
   "cell_type": "markdown",
   "metadata": {},
   "source": [
    "Once the configuration and the input stimulus are ready, we execute the entire model:"
   ]
  },
  {
   "cell_type": "code",
   "execution_count": null,
   "metadata": {},
   "outputs": [],
   "source": [
    "from neurokernel.tools.mpi_run import *\n",
    "\n",
    "from neurokernel.tools.logging import setup_logger\n",
    "import neurokernel.core_gpu as core_gpu\n",
    "\n",
    "from neurokernel.LPU.LPU import LPU\n",
    "\n",
    "from neurokernel.LPU.InputProcessors.FileInputProcessor import FileInputProcessor\n",
    "from neurokernel.LPU.OutputProcessors.FileOutputProcessor import FileOutputProcessor\n",
    "\n",
    "#Define variables for the process\n",
    "lpu_file_name = 'generic_lpu.gexf.gz'  #File where the LPU graph is stored\n",
    "in_file_name = 'generic_input.h5'      #File where the input data is stored\n",
    "dt = 1e-4                              #Time resolution of generated signal\n",
    "dur = 1.0                              #Duration of generated signal\n",
    "gpu_dev = 0                            #GPU device number\n",
    "steps = int(dur/dt)                    #Number of steps\n",
    "out_file_name = 'new_output.h5'        #File to send the output data to\n",
    "\n",
    "#Create a process manager\n",
    "man = core_gpu.Manager()\n",
    "\n",
    "#Parse the LPU from GEXF file\n",
    "(comp_dict, conns) = LPU.lpu_parser(lpu_file_name)\n",
    "\n",
    "#Input data from HDF5 input file\n",
    "fl_input_processor = FileInputProcessor(in_file_name)\n",
    "\n",
    "#Output data to HDF5 file\n",
    "fl_output_processor = FileOutputProcessor([('V',None),('spike_state',None)], out_file_name, sample_interval=1)\n",
    "\n",
    "#Add the LPU to the Manager and attach input and output processors to it\n",
    "man.add(LPU, 'ge', dt, comp_dict, conns,\n",
    "        device = gpu_dev, input_processors = [fl_input_processor],\n",
    "        output_processors = [fl_output_processor], debug = True)\n",
    "\n",
    "#Logging is chatty\n",
    "output = mpi_run_manager(man, steps, log=False)\n",
    "\n",
    "print(output)\n"
   ]
  },
  {
   "cell_type": "markdown",
   "metadata": {},
   "source": [
    "#### Visualizing Result"
   ]
  },
  {
   "cell_type": "markdown",
   "metadata": {},
   "source": [
    "Next, we render the simulation output to an image:"
   ]
  },
  {
   "cell_type": "code",
   "execution_count": null,
   "metadata": {},
   "outputs": [],
   "source": [
    "import matplotlib as mpl\n",
    "mpl.use('agg')\n",
    "import matplotlib.pyplot as plt\n",
    "\n",
    "import neurokernel.LPU.utils.visualizer as vis\n",
    "import networkx as nx\n",
    "import h5py\n",
    "\n",
    "# Temporary fix for bug in networkx 1.8:\n",
    "nx.readwrite.gexf.GEXF.convert_bool = {'false':False, 'False':False,\n",
    "                                       'true':True, 'True':True}\n",
    "\n",
    "# Select IDs of spiking projection neurons:\n",
    "G = nx.read_gexf(lpu_file_name)\n",
    "neu_proj = sorted([k for k, n in G.node.items() if \\\n",
    "                   n['name'][:4] == 'proj' and \\\n",
    "                   n['class'] == 'LeakyIAF'])\n",
    "\n",
    "in_uid = 'sensory_0'\n",
    "\n",
    "N = len(neu_proj)\n",
    "\n",
    "V = vis.visualizer()\n",
    "V.add_LPU(in_file_name, LPU='Sensory', is_input=True)\n",
    "V.add_plot({'type':'waveform', 'uids': [[in_uid]], 'variable':'I'},\n",
    "           'input_Sensory')\n",
    "\n",
    "V.add_LPU(out_file_name,  'Generic LPU',\n",
    "          gexf_file= lpu_file_name)\n",
    "V.add_plot({'type':'raster', 'uids': [neu_proj], 'variable': 'spike_state',\n",
    "            'yticks': range(1, 1+N),\n",
    "            'yticklabels': neu_proj, 'title': 'Output'},\n",
    "            'Generic LPU')\n",
    "\n",
    "V.rows = 2\n",
    "V.cols = 1\n",
    "V.fontsize = 8\n",
    "V.xlim = [0, 1.0]\n",
    "V.update_interval = None\n",
    "V.run('generic_output.png')\n"
   ]
  },
  {
   "cell_type": "markdown",
   "metadata": {},
   "source": [
    "The simulation output rendered to an image is shown below:"
   ]
  },
  {
   "cell_type": "code",
   "execution_count": null,
   "metadata": {},
   "outputs": [],
   "source": [
    "from IPython.display import Image\n",
    "\n",
    "Image(filename = 'generic_output.png')"
   ]
  },
  {
   "cell_type": "markdown",
   "metadata": {},
   "source": [
    "The simulation output rendered to a video is shown below:"
   ]
  },
  {
   "cell_type": "code",
   "execution_count": null,
   "metadata": {
    "scrolled": true
   },
   "outputs": [],
   "source": [
    "import IPython.display\n",
    "IPython.display.YouTubeVideo('gIEchSQvffk')"
   ]
  },
  {
   "cell_type": "markdown",
   "metadata": {},
   "source": [
    "#### Reference"
   ]
  },
  {
   "cell_type": "markdown",
   "metadata": {},
   "source": [
    "<a name=\"chiang_three-dimensional_2011\" ></a>Ann-Shyn Chiang, Chih-Yung Lin, Chao-Chun Chuang, Hsiu-Ming Chang, Chang- Huain Hsieh, Chang-Wei Yeh, Chi-Tin Shih, Jian-Jheng Wu, Guo-Tzau Wang, and Yung-Chang Chen. Three-dimensional reconstruction of brain-wide wiring networks in Drosophila at single-cell resolution. Current Biology, 21(1):1–11, January 2011."
   ]
  }
 ],
 "metadata": {
  "kernelspec": {
   "display_name": "Python 2",
   "language": "python",
   "name": "python2"
  },
  "language_info": {
   "codemirror_mode": {
    "name": "ipython",
    "version": 2
   },
   "file_extension": ".py",
   "mimetype": "text/x-python",
   "name": "python",
   "nbconvert_exporter": "python",
   "pygments_lexer": "ipython2",
   "version": "2.7.12"
  }
 },
 "nbformat": 4,
 "nbformat_minor": 1
}
