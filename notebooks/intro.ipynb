{
 "cells": [
  {
   "cell_type": "markdown",
   "metadata": {},
   "source": [
    "# Introduction to Neurokernel's API"
   ]
  },
  {
   "cell_type": "markdown",
   "metadata": {},
   "source": [
    "This notebook illustrates how to define and connect local processing unit (LPU) models using Neurokernel."
   ]
  },
  {
   "cell_type": "markdown",
   "metadata": {},
   "source": [
    "### Background"
   ]
  },
  {
   "cell_type": "markdown",
   "metadata": {},
   "source": [
    "An LPU comprises two distinct populations of neurons [(Chiang et al., 2011)](#chiang_three-dimensional_2011): *local* neurons may only project to other neurons in the LPU, while *projection* neurons may project both to local neurons and neurons in other LPUs. All synapses between neurons are comprised by *internal connectivity* patterns. LPUs are linked by *inter-LPU connectivity* patterns that map one LPU's outputs to inputs in other LPUs. The general structure of an LPU is shown below:"
   ]
  },
  {
   "cell_type": "markdown",
   "metadata": {},
   "source": [
    "<img src='files/files/generic-lpus.jpg' />"
   ]
  },
  {
   "cell_type": "markdown",
   "metadata": {},
   "source": [
    "### Defining an LPU Interface"
   ]
  },
  {
   "cell_type": "markdown",
   "metadata": {},
   "source": [
    "#### Interface Ports"
   ]
  },
  {
   "cell_type": "markdown",
   "metadata": {},
   "source": [
    "All communication between LPUs must pass through *ports* that are internally associated with modeling elements that must emit or receive external data. An LPU's *interface* is defined as the set of ports it exposes to other LPUs. Each port is defined by a unique identifier string and attributes that indicate whether \n",
    "- it transmits *spikes* (i.e., boolean values) or *graded potentials* (i.e., floating point numbers) at each step of model execution and whether\n",
    "- it accepts *input* or emits *output*.\n",
    "\n",
    "To facilitate management of a large numbers of ports, Neurokernel requires that port identifiers conform to a hierarchical format similar to that used to label files or [elements in structured documents](http://www.w3.org/TR/xpath/).  Each identifier may comprise multiple *levels* joined by separators (/ and []). Neurokernel also defines an extended format for selecting multiple ports with a single *selector*; a selector that cannot be expanded to an explicit list of individual port identifiers is said to be *ambiguous*. Rather than define a formal grammar for this format, the following table depicts examples of how it may be used to refer to multiple ports.\n",
    "\n",
    "<table>\n",
    "    <tr>\n",
    "    <th>Identifier/Selector</th>\n",
    "    <th>Comments</th>\n",
    "    </tr>\n",
    "    <tr>\n",
    "    <td><tt>/med/L1[0]</tt></td>\n",
    "    <td>selects a single port</td>\n",
    "    </tr>\n",
    "    <tr>\n",
    "    <td><tt>/med/L1[0]</tt></td>\n",
    "    <td>equivalent to <tt>/med/L1[0]</tt></td>\n",
    "    </tr>\n",
    "    <tr>\n",
    "    <td><tt>/med+/L[1]</tt></td>\n",
    "    <td>equivalent to <tt>/med/L1[0]</tt></td>\n",
    "    </tr>\n",
    "    <tr>\n",
    "    <td><tt>/med[L1,L2][0]</tt></td>\n",
    "    <td>selects two ports</td>\n",
    "    </tr>\n",
    "    <tr>\n",
    "    <td><tt>/med/L1[0,1]</tt></td>\n",
    "    <td>another example of two ports</td>\n",
    "    </tr>\n",
    "    <tr>\n",
    "    <td><tt>/med/L1[0],/med/L1[1]</tt></td>\n",
    "    <td>equivalent to <tt>/med/L1[0,1]</tt></td>\n",
    "    </tr>\n",
    "    <tr>\n",
    "    <td><tt>/med/L1[0:10]</tt></td>\n",
    "    <td>selects a range of 10 ports</td>\n",
    "    </tr>\n",
    "    <tr>\n",
    "    <td><tt>/med/L1/*</tt></td>\n",
    "    <td>selects all ports starting with <tt>/med/L1</tt></td>\n",
    "    </tr>\n",
    "    <tr>\n",
    "    <td><tt>(/med/L1,/med/L2)+[0]</tt></td>\n",
    "    <td>equivalent to <tt>/med/[L1,L2][0]</tt></td>\n",
    "    </tr>\n",
    "    <tr>\n",
    "    <td><tt>/med/[L1,L2].+[0:2]</tt></td>\n",
    "    <td>equivalent to <tt>/med/L1[0],/med/L2[1]</tt></td>\n",
    "    </tr>\n",
    "</table>"
   ]
  },
  {
   "cell_type": "markdown",
   "metadata": {},
   "source": [
    "#### Inter-LPU Connectivity Patterns"
   ]
  },
  {
   "cell_type": "markdown",
   "metadata": {},
   "source": [
    "All connections between LPUs must be defined in inter-LPU connectivity patterns that map the output ports of one LPU to the input ports of another LPU. Since individual LPUs may internally implement multiplexing of input signals to a single destination in different ways, the LPU interface only permits fan-out from individual output ports to multiple input ports; connections from multiple output ports may not converge on a single input port. A single pattern may define connections in both directions.\n",
    "\n",
    "A connectivity pattern between two LPUs is fully specified by the identifiers and attributes of the ports in its two interfaces and the directed graph of connections defined between them. An example of such pattern defined between ports <tt>/lam[0:6]</tt> and <tt>/med[0:5]</tt> follows:\n",
    "\n",
    "<table>\n",
    "    <tr>\n",
    "    <th>Port</th><th>Interface</th><th>I/O</th><th>Port Type</th>\n",
    "    </tr>\n",
    "    <tr>\n",
    "    <td><tt>/lam[0]</tt></td><td><tt>0</tt></td><td><tt>in</tt></td><td><tt>graded potential</tt></td>\n",
    "    </tr>\n",
    "    <tr>\n",
    "    <td><tt>/lam[1]</tt></td><td><tt>0</tt></td><td><tt>in</tt></td><td><tt>graded potential</tt></td>\n",
    "    </tr>\n",
    "    <tr>\n",
    "    <td><tt>/lam[2]</tt></td><td><tt>0</tt></td><td><tt>out</tt></td><td><tt>graded potential</tt></td>\n",
    "    </tr>\n",
    "    <tr>\n",
    "    <td><tt>/lam[3]</tt></td><td><tt>0</tt></td><td><tt>out</tt></td><td><tt>spiking</tt></td>\n",
    "    </tr>\n",
    "    <tr>\n",
    "    <td><tt>/lam[4]</tt></td><td><tt>0</tt></td><td><tt>out</tt></td><td><tt>spiking</tt></td>\n",
    "    </tr>\n",
    "    <tr>\n",
    "    <td><tt>/lam[5]</tt></td><td><tt>0</tt></td><td><tt>out</tt></td><td><tt>spiking</tt></td>\n",
    "    </tr>\n",
    "    <tr>\n",
    "    <td><tt>/med[0]</tt></td><td><tt>1</tt></td><td><tt>out</tt></td><td><tt>graded potential</tt></td>\n",
    "    </tr>\n",
    "    <tr>\n",
    "    <td><tt>/med[1]</tt></td><td><tt>1</tt></td><td><tt>out</tt></td><td><tt>graded potential</tt></td>\n",
    "    </tr>\n",
    "    <tr>\n",
    "    <td><tt>/med[2]</tt></td><td><tt>1</tt></td><td><tt>out</tt></td><td><tt>graded potential</tt></td>\n",
    "    </tr>\n",
    "    <tr>\n",
    "    <td><tt>/med[3]</tt></td><td><tt>1</tt></td><td><tt>in</tt></td><td><tt>spiking</tt></td>\n",
    "    </tr>\n",
    "    <tr>\n",
    "    <td><tt>/med[4]</tt></td><td><tt>1</tt></td><td><tt>in</tt></td><td><tt>spiking</tt></td>\n",
    "    </tr>\n",
    "</table>\n",
    "\n",
    "<table>\n",
    "    <tr>\n",
    "    <th>From</th><th>To</th>\n",
    "    </tr>\n",
    "    <tr>\n",
    "    <td><tt>/lam[0]</tt></td><td><tt>/med[0]</tt></td>\n",
    "    </tr>\n",
    "    <tr>\n",
    "    <td><tt>/lam[0]</tt></td><td><tt>/med[1]</tt></td>\n",
    "    </tr>\n",
    "    <tr>\n",
    "    <td><tt>/lam[1]</tt></td><td><tt>/med[2]</tt></td>\n",
    "    </tr>\n",
    "    <tr>\n",
    "    <td><tt>/med[3]</tt></td><td><tt>/lam[3]</tt></td>\n",
    "    </tr>\n",
    "    <tr>\n",
    "    <td><tt>/med[4]</tt></td><td><tt>/lam[4]</tt></td>\n",
    "    </tr>\n",
    "    <tr>\n",
    "    <td><tt>/med[4]</tt></td><td><tt>/lam[5]</tt></td>\n",
    "    </tr>\n",
    "</table>\n"
   ]
  },
  {
   "cell_type": "markdown",
   "metadata": {},
   "source": [
    "### Using Neurokernel's API"
   ]
  },
  {
   "cell_type": "markdown",
   "metadata": {},
   "source": [
    "#### Setting up LPU Interfaces and Patterns"
   ]
  },
  {
   "cell_type": "markdown",
   "metadata": {},
   "source": [
    "Neurokernel provides Python classes for defining LPUs and connectivity patterns that can be used to link them together. The former (``neurokernel.core.Module`` for LPUs that don't access the GPU and ``neurokernel.core_gpu.Module`` for LPUs that do) requires an LPU designer to implement all of the LPU's internals from the ground up; the latter class places no explicit constraints upon how an LPU uses GPU resources. In order to enable independently implemented LPUs to communicate with each other, each LPU must implement a method called ``run_step()`` called during each step of execution that consumes incoming data from other LPUs and produces data for transmission to other LPUs. The example below generates random data in its ``run_step()`` method:"
   ]
  },
  {
   "cell_type": "code",
   "execution_count": null,
   "metadata": {},
   "outputs": [],
   "source": [
    "import numpy as np\n",
    "\n",
    "from neurokernel.core_gpu import Module\n",
    "\n",
    "class MyModule(Module):\n",
    "\n",
    "    # Process incoming data and set outgoing data:\n",
    "    def run_step(self):       \n",
    "        super(MyModule, self).run_step()\n",
    "\n",
    "        # Display input graded potential data:\n",
    "        self.logger.info('input gpot port data: '+str(self.pm['gpot'][self.in_gpot_ports]))\n",
    "        \n",
    "        # Display input spike data:\n",
    "        self.logger.info('input spike port data: '+str(self.pm['spike'][self.in_spike_ports]))\n",
    "\n",
    "        # Output random graded potential data:\n",
    "        out_gpot_data = gpuarray.to_gpu(np.random.rand(len(self.out_gpot_ports)))\n",
    "        self.pm['gpot'][self.out_gpot_ports] = out_gpot_data\n",
    "        self.log_info('output gpot port data: '+str(out_gpot_data))\n",
    "            \n",
    "        # Randomly select output ports to emit spikes:\n",
    "        out_spike_data = gpuarray.to_gpu(np.random.randint(0, 2, len(self.out_spike_ports)))\n",
    "        self.pm['spike'][self.out_spike_ports] = out_spike_data\n",
    "        self.log_info('output spike port data: '+str(out_spike_data))"
   ]
  },
  {
   "cell_type": "markdown",
   "metadata": {},
   "source": [
    "Notice that every LPU instance must be associated with a unique identifier (``id``). An LPU contains a port-mapper attribute (``pm``) that maps input and output ports to a data array that may be accessed by the LPU's internal implementation; after each step of execution, the array associated with the port-mapper is updated with input data from source LPUs while output data from the array is transmitted to destination LPUs.  "
   ]
  },
  {
   "cell_type": "markdown",
   "metadata": {},
   "source": [
    "One can instantiate the above LPU class as follows: "
   ]
  },
  {
   "cell_type": "code",
   "execution_count": null,
   "metadata": {},
   "outputs": [],
   "source": [
    "from neurokernel.plsel import Selector,SelectorMethods\n",
    "\n",
    "m1_int_sel_in_gpot = Selector('/a/in/gpot[0:2]')\n",
    "m1_int_sel_out_gpot = Selector('/a/out/gpot[0:2]')\n",
    "m1_int_sel_in_spike = Selector('/a/in/spike[0:2]')\n",
    "m1_int_sel_out_spike = Selector('/a/out/spike[0:2]')\n",
    "m1_int_sel = m1_int_sel_in_gpot+m1_int_sel_out_gpot+\\\n",
    "             m1_int_sel_in_spike+m1_int_sel_out_spike\n",
    "m1_int_sel_in = m1_int_sel_in_gpot+m1_int_sel_in_spike\n",
    "m1_int_sel_out = m1_int_sel_out_gpot+m1_int_sel_out_spike\n",
    "m1_int_sel_gpot = m1_int_sel_in_gpot+m1_int_sel_out_gpot\n",
    "m1_int_sel_spike = m1_int_sel_in_spike+m1_int_sel_out_spike\n",
    "N1_gpot = SelectorMethods.count_ports(m1_int_sel_gpot)\n",
    "N1_spike = SelectorMethods.count_ports(m1_int_sel_spike)\n",
    "\n",
    "m2_int_sel_in_gpot = Selector('/b/in/gpot[0:2]')\n",
    "m2_int_sel_out_gpot = Selector('/b/out/gpot[0:2]')\n",
    "m2_int_sel_in_spike = Selector('/b/in/spike[0:2]')\n",
    "m2_int_sel_out_spike = Selector('/b/out/spike[0:2]')\n",
    "m2_int_sel = m2_int_sel_in_gpot+m2_int_sel_out_gpot+\\\n",
    "             m2_int_sel_in_spike+m2_int_sel_out_spike\n",
    "m2_int_sel_in = m2_int_sel_in_gpot+m2_int_sel_in_spike\n",
    "m2_int_sel_out = m2_int_sel_out_gpot+m2_int_sel_out_spike\n",
    "m2_int_sel_gpot = m2_int_sel_in_gpot+m2_int_sel_out_gpot\n",
    "m2_int_sel_spike = m2_int_sel_in_spike+m2_int_sel_out_spike\n",
    "N2_gpot = SelectorMethods.count_ports(m2_int_sel_gpot)\n",
    "N2_spike = SelectorMethods.count_ports(m2_int_sel_spike)"
   ]
  },
  {
   "cell_type": "markdown",
   "metadata": {},
   "source": [
    "Using the ports in each of the above LPUs' interfaces, one can define a connectivity pattern between them as follows:"
   ]
  },
  {
   "cell_type": "code",
   "execution_count": null,
   "metadata": {},
   "outputs": [],
   "source": [
    "from neurokernel.pattern import Pattern\n",
    "\n",
    "pat12 = Pattern(m1_int_sel, m2_int_sel)\n",
    "pat12.interface[m1_int_sel_out_gpot] = [0, 'in', 'gpot']\n",
    "pat12.interface[m1_int_sel_in_gpot] = [0, 'out', 'gpot']\n",
    "pat12.interface[m1_int_sel_out_spike] = [0, 'in', 'spike']\n",
    "pat12.interface[m1_int_sel_in_spike] = [0, 'out', 'spike']\n",
    "pat12.interface[m2_int_sel_in_gpot] = [1, 'out', 'gpot']\n",
    "pat12.interface[m2_int_sel_out_gpot] = [1, 'in', 'gpot']\n",
    "pat12.interface[m2_int_sel_in_spike] = [1, 'out', 'spike']\n",
    "pat12.interface[m2_int_sel_out_spike] = [1, 'in', 'spike']\n",
    "\n",
    "pat12['/a/out/gpot[0]', '/b/in/gpot[0]'] = 1\n",
    "pat12['/a/out/gpot[1]', '/b/in/gpot[1]'] = 1\n",
    "pat12['/b/out/gpot[0]', '/a/in/gpot[0]'] = 1\n",
    "pat12['/b/out/gpot[1]', '/a/in/gpot[1]'] = 1\n",
    "pat12['/a/out/spike[0]', '/b/in/spike[0]'] = 1\n",
    "pat12['/a/out/spike[1]', '/b/in/spike[1]'] = 1\n",
    "pat12['/b/out/spike[0]', '/a/in/spike[0]'] = 1\n",
    "pat12['/b/out/spike[1]', '/a/in/spike[1]'] = 1"
   ]
  },
  {
   "cell_type": "markdown",
   "metadata": {},
   "source": [
    "### A Simple Example: Creating an LPU"
   ]
  },
  {
   "cell_type": "markdown",
   "metadata": {},
   "source": [
    "To obviate the need to implement an LPU completely from scratch, the [Neurodriver](https://github.com/neurokernel/neurodriver) package provides a functional LPU class (``neurokernel.LPU.LPU.LPU``) that supports the following neuron and synapse models:\n",
    "\n",
    "* Leaky Integrate-and-Fire (LIF) neuron (spiking neuron)\n",
    "* Morris-Lecar (ML) neuron (graded potential neuron), \n",
    "* Alpha function synapse\n",
    "* Conductance-based synapse (referred to as ``power_gpot_gpot``).  \n",
    "\n",
    "Note that although the ML model can in principle be configured as a spiking neuron model, the implementation in the LPU class is configured to output its membrane potential.\n",
    "\n",
    "Alpha function synapses may be used to connect any type of presynaptic neuron to any type of of postsynaptic neuron; the neuron presynaptic to a conductance-based synapse must be a graded potential neuron.\n",
    "\n",
    "It should be emphasized that the above LPU implementation and the currently support models are not necessarily optimal and may be replaced with improved implementations in the future."
   ]
  },
  {
   "cell_type": "markdown",
   "metadata": {},
   "source": [
    "The ``LPU`` class provided by Neurodriver may be instantiated with a graph describing its internal structure. The graph must be stored in [GEXF](http://gexf.net) file format with nodes and edges respectively corresponding to instances of the supported neuron and synapse models. To facilitate construction of an LPU, the [networkx](http://networkx.github.io) Python package may be used to set the parameters of the model instances. For example, the following code defines a simple network consisting of an LIF neuron with a single synaptic connection to an ML neuron; the synaptic current elicited by the LIF neuron's spikes is modeled by an alpha function:"
   ]
  },
  {
   "cell_type": "code",
   "execution_count": null,
   "metadata": {},
   "outputs": [],
   "source": [
    "import numpy as np\n",
    "import networkx as nx\n",
    "\n",
    "G = nx.MultiDiGraph()\n",
    "# add a neuron node with LeakyIAF model\n",
    "G.add_node('neuron0',                                 # UID\n",
    "           {'class': 'LeakyIAF',                      # component model\n",
    "            'name': 'neuron_0',                       # component name\n",
    "            'initV': np.random.uniform(-60.0, -25.0), # initial membrane voltage\n",
    "            'reset_potential': -67.5489770451,        # reset voltage\n",
    "            'threshold': -25.1355161007,              # spike threshold\n",
    "            'resting_potential': 0.0,                 # resting potential\n",
    "            'resistance': 1024.45570216,              # membrane resistance\n",
    "            'capacitance': 0.0669810502993})          # membrane capacitance\n",
    "\n",
    "# The above neuron is a projection neuron,\n",
    "# create an output port for it\n",
    "G.add_node('neuron0_port',                    # UID\n",
    "           {'class': 'Port',                  # indicates it is a port\n",
    "            'name': 'neuron_0_output_port',   # name of the port\n",
    "            'selector': '/a[0]',              # selector of the port\n",
    "            'port_io': 'out',                 # indicates it is an output port\n",
    "            'port_type': 'spike'})            # indicates it is a spike port\n",
    "\n",
    "# connect the neuron node and its port\n",
    "G.add_edge('neuron0', 'neuron0_port')\n",
    "\n",
    "# add a second neuron node with MorrisLecar model\n",
    "G.add_node('neuron1',\n",
    "           {'class': \"MorrisLecar\",                  \n",
    "            'name': 'neuron_1',\n",
    "            'V1': 30.0,\n",
    "            'V2': 15.0,\n",
    "            'V3': 0.0,\n",
    "            'V4': 30.0,\n",
    "            'phi': 25.0,\n",
    "            'offset': 0.0,\n",
    "            'V_L': -50.,\n",
    "            'V_Ca': 100.0,\n",
    "            'V_K': -70.0,\n",
    "            'g_Ca': 1.1,\n",
    "            'g_K': 2.0,\n",
    "            'g_L': 0.5,\n",
    "            'initV': -52.14,\n",
    "            'initn': 0.03,})\n",
    "\n",
    "# add a synapse node with AlphaSynapse model\n",
    "G.add_node('synapse_0_1',\n",
    "           {'class': 'AlphaSynapse',\n",
    "            'name': 'synapse_0_1',\n",
    "            'ar': 1.1*1e2,        # decay rate\n",
    "            'ad': 1.9*1e3,        # rise rate\n",
    "            'reverse': 65.0,      # reversal potential\n",
    "            'gmax': 2*1e-3,       # maximum conductance\n",
    "            })\n",
    "\n",
    "# connect presynaptic neuron to synapse\n",
    "G.add_edge('neuron0', 'synapse_0_1')\n",
    "# connect synapse to postsynaptic neuron\n",
    "G.add_edge('synapse_0_1', 'neuron1')\n",
    "\n",
    "# export the graph to GEXF file\n",
    "nx.write_gexf(G, 'simple_lpu.gexf.gz')"
   ]
  },
  {
   "cell_type": "markdown",
   "metadata": {},
   "source": [
    "We can prepare a simple pulse input and save it in an HDF5 file to pass to ``neuron_0`` as follows:"
   ]
  },
  {
   "cell_type": "code",
   "execution_count": null,
   "metadata": {},
   "outputs": [],
   "source": [
    "import h5py\n",
    "\n",
    "dt = 1e-4           # time resolution of model execution in seconds\n",
    "dur = 1.0           # duration in seconds\n",
    "Nt = int(dur/dt) # number of data points in time\n",
    "\n",
    "start = 0.3\n",
    "stop = 0.6\n",
    "\n",
    "I_max = 0.6\n",
    "t = np.arange(0, dt*Nt, dt)\n",
    "I = np.zeros((Nt, 1), dtype=np.double)\n",
    "I[np.logical_and(t>start, t<stop)] = I_max\n",
    "\n",
    "uids = np.array(['neuron0'])\n",
    "\n",
    "with h5py.File('simple_input.h5', 'w') as f:\n",
    "    f.create_dataset('I/uids', data=uids)\n",
    "    f.create_dataset('I/data', (Nt, 1),\n",
    "                     dtype=np.double,\n",
    "                     data=I)"
   ]
  },
  {
   "cell_type": "markdown",
   "metadata": {},
   "source": [
    "The LPU defined earlier can be instantiated and executed as follows:"
   ]
  },
  {
   "cell_type": "code",
   "execution_count": null,
   "metadata": {
    "scrolled": true
   },
   "outputs": [],
   "source": [
    "from neurokernel.tools.mpi_run import mpi_run\n",
    "\n",
    "def run_core_gpu():\n",
    "    from neurokernel.core_gpu import Manager\n",
    "    from neurokernel.LPU.LPU import LPU\n",
    "\n",
    "    from neurokernel.LPU.InputProcessors.FileInputProcessor import FileInputProcessor\n",
    "    from neurokernel.LPU.OutputProcessors.FileOutputProcessor import FileOutputProcessor\n",
    "    \n",
    "    from neurokernel.tools.logging import setup_logger\n",
    "\n",
    "    dt = 1e-4\n",
    "    dur = 1.0         \n",
    "    steps = int(dur/dt) \n",
    "\n",
    "    logger = setup_logger(file_name=\"log.out\", screen=False)\n",
    "\n",
    "\n",
    "    man = Manager()\n",
    "    lpu_file = 'simple_lpu.gexf.gz'\n",
    "    (comp_dict, conns) = LPU.lpu_parser(lpu_file)\n",
    "\n",
    "    fip_file = 'simple_input.h5'\n",
    "    fl_input_processor = FileInputProcessor(fip_file)\n",
    "    fl_output_processor = FileOutputProcessor([('V',None),('spike_state',None)], 'simple_output.h5', sample_interval=1)\n",
    "\n",
    "    man.add(LPU, 'simple', dt, comp_dict, conns,\n",
    "            device=0, input_processors = [fl_input_processor],\n",
    "            output_processors = [fl_output_processor], debug=True)\n",
    "\n",
    "    man.spawn()\n",
    "    man.start(steps=steps)\n",
    "    man.wait()\n",
    "\n",
    "    \n",
    "output = mpi_run(run_core_gpu, log=False)\n",
    "print(output)\n"
   ]
  },
  {
   "cell_type": "markdown",
   "metadata": {},
   "source": [
    "The spikes emitted by ``neuron_0`` and the membrane potential of ``neuron_1`` are respectively stored in ``simple_output_spike.h5`` and ``simple_output_gpot.h5``. These can be visualized using a built-in LPU output visualization class that can render the output in video and image format:"
   ]
  },
  {
   "cell_type": "code",
   "execution_count": null,
   "metadata": {},
   "outputs": [],
   "source": [
    "import matplotlib as mpl\n",
    "mpl.use('agg')\n",
    "import matplotlib.pyplot as plt\n",
    "\n",
    "import neurokernel.LPU.utils.visualizer as vis\n",
    "import networkx as nx\n",
    "import h5py\n",
    "\n",
    "# Temporary fix for bug in networkx 1.8:\n",
    "nx.readwrite.gexf.GEXF.convert_bool = \\\n",
    "    {'false':False, 'False':False,\n",
    "      'true':True, 'True':True}\n",
    "\n",
    "V = vis.visualizer()\n",
    "\n",
    "# create a plot for current input injected to 'neuron0'\n",
    "V.add_LPU('simple_input.h5', LPU='Input', is_input = True)\n",
    "V.add_plot({'type': 'waveform', 'uids': [['neuron0']], 'variable': 'I', 'title': 'Input'}, 'input_Input')\n",
    "\n",
    "# create a plot for spike output from 'neuron0'\n",
    "V.add_LPU('simple_output.h5',\n",
    "          gexf_file='./simple_lpu.gexf.gz', LPU='Simple LPU (Spikes)')\n",
    "V.add_plot({'type':'raster', 'uids': [['neuron0']], 'variable': 'spike_state',\n",
    "            'yticks': [0], 'yticklabels': [0], 'title': 'Output - Neuron 0'},\n",
    "            'Simple LPU (Spikes)')\n",
    "\n",
    "# create a plot for membrane potential output from 'neuron1'\n",
    "V.add_LPU('simple_output.h5',\n",
    "          gexf_file='./simple_lpu.gexf.gz', LPU='Simple LPU (Graded Potential)')\n",
    "V.add_plot({'type': 'waveform', 'uids': [['neuron1']], 'variable': 'V', 'title': 'Output - Neuron 1',\n",
    "            'ylim': [-70.0,-10.0]},\n",
    "            'Simple LPU (Graded Potential)')\n",
    "\n",
    "V._update_interval = None\n",
    "V.rows = 3\n",
    "V.cols = 1\n",
    "V.fontsize = 8\n",
    "V.dt = 0.0001\n",
    "V.xlim = [0, 1.0]\n",
    "V.figsize = (6, 4)\n",
    "V.run('simple_output.png')\n",
    "\n",
    "# Don't automatically display the output image:\n",
    "plt.close(plt.gcf())\n"
   ]
  },
  {
   "cell_type": "markdown",
   "metadata": {},
   "source": [
    "Here is the generated image of the output:"
   ]
  },
  {
   "cell_type": "code",
   "execution_count": null,
   "metadata": {},
   "outputs": [],
   "source": [
    "from IPython.display import Image\n",
    "\n",
    "Image(filename = 'simple_output.png')"
   ]
  },
  {
   "cell_type": "markdown",
   "metadata": {},
   "source": [
    "### A More Complex Example: Connecting LPUs"
   ]
  },
  {
   "cell_type": "markdown",
   "metadata": {},
   "source": [
    "The following example demonstrates the creation and connection of two LPUs containing multiple neurons with a connectivity pattern. The number of neurons and synapses in each of the LPUs' internal populations are randomly generated: the number of neurons in each populations is randomly selected between 30 to 40. The LPUs' projection neurons - as well as populations of input neurons presynaptic to the LPUs that accept an input stimulus - are modeled as LIF neurons, while each of the local neurons is modeled as either an LIF neuron or a graded potential ML neuron. Synaptic currents are modeled with alpha functions. Synapses between the LPU's local and projection neurons, as well as synpases between the input neurons and the LPU's internal neurons, are also created randomly; roughly half of the total number of pairs of neurons are connected. \n",
    "\n",
    "To generate the LPUs and input signals used in this demo, we run the following script:"
   ]
  },
  {
   "cell_type": "code",
   "execution_count": null,
   "metadata": {},
   "outputs": [],
   "source": [
    "import numpy as np\n",
    "import sys\n",
    "sys.path.append('../examples/intro/data')\n",
    "\n",
    "from gen_generic_lpu import create_lpu, create_input\n",
    "\n",
    "for i in [0,1]:\n",
    "    \n",
    "    #Set the random seed\n",
    "    np.random.seed(i)\n",
    "    \n",
    "    #Define file names\n",
    "    lpu_name =      'lpu_%i' % i\n",
    "    lpu_file_name = 'generic_lpu_%i.gexf.gz'  % i\n",
    "    in_file_name =  'generic_lpu_%i_input.h5' % i\n",
    "    \n",
    "    #Define variables\n",
    "    dt  = 1e-4\n",
    "    dur = 1.0\n",
    "    start = 0.3\n",
    "    stop = 0.6\n",
    "    I_max = 0.6\n",
    "    neu_num = [np.random.randint(31, 40) for _ in xrange(3)]\n",
    "    \n",
    "    #Create the LPU and input files\n",
    "    create_lpu(lpu_file_name, lpu_name, *neu_num)\n",
    "    create_input(in_file_name, neu_num[0], dt, dur, start, stop, I_max)"
   ]
  },
  {
   "cell_type": "markdown",
   "metadata": {},
   "source": [
    "Since the neurons and synapses in the generated LPUs are stored in GEXF format, they can be easily accessed using networkx and [pandas](http://pandas.pydata.org). Neurokernel provides a convenience function to convert between networkx graphs and pandas' DataFrame class:"
   ]
  },
  {
   "cell_type": "code",
   "execution_count": null,
   "metadata": {},
   "outputs": [],
   "source": [
    "import networkx as nx\n",
    "import neurokernel.tools.graph\n",
    "g_0 = nx.read_gexf('generic_lpu_0.gexf.gz')\n",
    "df_comp_0, df_conn_0 = neurokernel.tools.graph.graph_to_df(g_0)"
   ]
  },
  {
   "cell_type": "markdown",
   "metadata": {},
   "source": [
    "Say one wishes to explore several LIF neurons in LPU 0. Here is how to access their parameters:"
   ]
  },
  {
   "cell_type": "code",
   "execution_count": null,
   "metadata": {
    "scrolled": false
   },
   "outputs": [],
   "source": [
    "df_comp_0[df_comp_0['class'] == 'LeakyIAF'][25:30][['name','class',\n",
    "                                'initV','reset_potential','resting_potential',\n",
    "                                'threshold','resistance','capacitance']]"
   ]
  },
  {
   "cell_type": "markdown",
   "metadata": {},
   "source": [
    "Say one wishes to find the parameters of the synapses linking neuron ``output_31_s`` to other destination neurons; these can be accessed using the following query:"
   ]
  },
  {
   "cell_type": "code",
   "execution_count": null,
   "metadata": {},
   "outputs": [],
   "source": [
    "ind = df_comp_0['name'].str.startswith('proj_31_s-')\n",
    "df_comp_0[ind][['name','class','ar','ad','reverse','gmax']]"
   ]
  },
  {
   "cell_type": "markdown",
   "metadata": {},
   "source": [
    "Once the configuration and the input stimulus are ready, we execute the entire model with connections defined between the LPUs:"
   ]
  },
  {
   "cell_type": "code",
   "execution_count": null,
   "metadata": {},
   "outputs": [],
   "source": [
    "import random\n",
    "\n",
    "import neurokernel.core_gpu as core_gpu\n",
    "import neurokernel.pattern as pattern\n",
    "import neurokernel.plsel as plsel\n",
    "from neurokernel.LPU.LPU import LPU\n",
    "\n",
    "from neurokernel.LPU.InputProcessors.FileInputProcessor import FileInputProcessor\n",
    "from neurokernel.LPU.OutputProcessors.FileOutputProcessor import FileOutputProcessor\n",
    "\n",
    "\n",
    "#Set the random seed\n",
    "random.seed(0)\n",
    "\n",
    "#Load the manager\n",
    "man = core_gpu.Manager()\n",
    "\n",
    "#Define filenames\n",
    "lpu_file_0 = 'generic_lpu_0.gexf.gz'\n",
    "in_file_0  = 'generic_lpu_0_input.h5'\n",
    "out_file_0 = 'generic_lpu_0_output.h5'\n",
    "lpu_file_1 = 'generic_lpu_1.gexf.gz'\n",
    "in_file_1  = 'generic_lpu_1_input.h5'\n",
    "out_file_1 = 'generic_lpu_1_output.h5'\n",
    "\n",
    "#Extract the LPU graphs\n",
    "comp_dict_0, conns_0 = LPU.lpu_parser(lpu_file_0)\n",
    "comp_dict_1, conns_1 = LPU.lpu_parser(lpu_file_1)\n",
    "\n",
    "#Attach file processors to LPU 0\n",
    "fl_input_processor_0 = FileInputProcessor(in_file_0)\n",
    "fl_output_processor_0 = FileOutputProcessor(\n",
    "            [('V',None),('spike_state',None)],\n",
    "            out_file_0, sample_interval=1)\n",
    "\n",
    "lpu_0_id = 'lpu_0'\n",
    "man.add(LPU, lpu_0_id, dt, comp_dict_0, conns_0,\n",
    "            input_processors = [fl_input_processor_0],\n",
    "            output_processors = [fl_output_processor_0],\n",
    "            device=0,\n",
    "            debug=False, time_sync=False)\n",
    "\n",
    "#Attach file processors to LPU 1\n",
    "fl_input_processor_1 = FileInputProcessor(in_file_1)\n",
    "fl_output_processor_1 = FileOutputProcessor(\n",
    "            [('V',None),('spike_state',None)],\n",
    "            out_file_1, sample_interval=1)\n",
    "\n",
    "lpu_1_id = 'lpu_1'\n",
    "man.add(LPU, lpu_1_id, dt, comp_dict_1, conns_1,\n",
    "            input_processors = [fl_input_processor_1],\n",
    "            output_processors = [fl_output_processor_1],\n",
    "            device=1,\n",
    "            debug=False, time_sync=False)"
   ]
  },
  {
   "cell_type": "code",
   "execution_count": null,
   "metadata": {},
   "outputs": [],
   "source": [
    "# Find all output and input port selectors in each LPU:\n",
    "out_ports_spk_0 = plsel.Selector(\n",
    "                ','.join(LPU.extract_out_spk(comp_dict_0, 'id')[0]))\n",
    "out_ports_gpot_0 = plsel.Selector(\n",
    "                ','.join(LPU.extract_out_gpot(comp_dict_0, 'id')[0]))\n",
    "\n",
    "out_ports_spk_1 = plsel.Selector(\n",
    "                ','.join(LPU.extract_out_spk(comp_dict_1, 'id')[0]))\n",
    "out_ports_gpot_1 = plsel.Selector(\n",
    "                ','.join(LPU.extract_out_gpot(comp_dict_1, 'id')[0]))\n",
    "\n",
    "in_ports_spk_0 = plsel.Selector(\n",
    "                ','.join(LPU.extract_in_spk(comp_dict_0, 'id')[0]))\n",
    "in_ports_gpot_0 = plsel.Selector(\n",
    "                ','.join(LPU.extract_in_gpot(comp_dict_0, 'id')[0]))\n",
    "\n",
    "in_ports_spk_1 = plsel.Selector(\n",
    "                ','.join(LPU.extract_in_spk(comp_dict_1, 'id')[0]))\n",
    "in_ports_gpot_1 = plsel.Selector(\n",
    "                ','.join(LPU.extract_in_gpot(comp_dict_1, 'id')[0]))\n",
    "\n",
    "out_ports_0 = plsel.Selector.union(out_ports_spk_0, out_ports_gpot_0)\n",
    "out_ports_1 = plsel.Selector.union(out_ports_spk_1, out_ports_gpot_1)\n",
    "\n",
    "in_ports_0 = plsel.Selector.union(in_ports_spk_0, in_ports_gpot_0)\n",
    "in_ports_1 = plsel.Selector.union(in_ports_spk_1, in_ports_gpot_1)\n",
    "\n",
    "# Initialize a connectivity pattern between the two sets of port\n",
    "# selectors:\n",
    "pat = pattern.Pattern(plsel.Selector.union(out_ports_0, in_ports_0),\n",
    "                      plsel.Selector.union(out_ports_1, in_ports_1))\n",
    "\n",
    "# Create connections from the ports with identifiers matching the output\n",
    "# ports of one LPU to the ports with identifiers matching the input\n",
    "# ports of the other LPU:\n",
    "N_conn_spk_0_1 = min(len(out_ports_spk_0), len(in_ports_spk_1))\n",
    "N_conn_gpot_0_1 = min(len(out_ports_gpot_0), len(in_ports_gpot_1))\n",
    "for src, dest in zip(random.sample(out_ports_spk_0.identifiers,\n",
    "                                   N_conn_spk_0_1),\n",
    "                     random.sample(in_ports_spk_1.identifiers,\n",
    "                                   N_conn_spk_0_1)):\n",
    "    pat[src, dest] = 1\n",
    "    pat.interface[src, 'type'] = 'spike'\n",
    "    pat.interface[dest, 'type'] = 'spike'\n",
    "for src, dest in zip(random.sample(out_ports_gpot_0.identifiers,\n",
    "                                   N_conn_gpot_0_1),\n",
    "                     random.sample(in_ports_gpot_1.identifiers,\n",
    "                                   N_conn_gpot_0_1)):\n",
    "    pat[src, dest] = 1\n",
    "    pat.interface[src, 'type'] = 'gpot'\n",
    "    pat.interface[dest, 'type'] = 'gpot'\n",
    "\n",
    "man.connect(lpu_0_id, lpu_1_id, pat, 0, 1)"
   ]
  },
  {
   "cell_type": "code",
   "execution_count": null,
   "metadata": {},
   "outputs": [],
   "source": [
    "from neurokernel.tools.mpi_run import mpi_run_manager\n",
    "\n",
    "dt = 1e-4\n",
    "dur = 1.0\n",
    "steps = int(dur/dt)\n",
    "\n",
    "output = mpi_run_manager(man, steps, log = False)\n",
    "print(output)"
   ]
  },
  {
   "cell_type": "markdown",
   "metadata": {},
   "source": [
    "Finally, we generate plots that depict the model execution"
   ]
  },
  {
   "cell_type": "code",
   "execution_count": null,
   "metadata": {},
   "outputs": [],
   "source": [
    "import matplotlib as mpl\n",
    "mpl.use('agg')\n",
    "import matplotlib.pyplot as plt\n",
    "\n",
    "import neurokernel.LPU.utils.visualizer as vis\n",
    "import networkx as nx\n",
    "import h5py\n",
    "\n",
    "# Temporary fix for bug in networkx 1.8:\n",
    "nx.readwrite.gexf.GEXF.convert_bool = \\\n",
    "    {'false':False, 'False':False,\n",
    "      'true':True, 'True':True}\n",
    "\n",
    "V = vis.visualizer()\n",
    "\n",
    "# create a plot for current input injected to 'neuron0'\n",
    "V.add_LPU('generic_lpu_0_input.h5', LPU='Input', is_input = True, dt = dt)\n",
    "V.add_plot({'type': 'waveform', 'uids': [['sensory_0']], 'variable': 'I', 'title': 'Input'}, 'input_Input')\n",
    "\n",
    "for i in [0,1]:\n",
    "    lpu_file_name = 'generic_lpu_%i.gexf.gz' % i\n",
    "    out_file_name = 'generic_lpu_%i_output.h5' % i\n",
    "    \n",
    "    G = nx.read_gexf(lpu_file_name)    \n",
    "    neu_proj = sorted([k for k, n in G.node.items() if \\\n",
    "                       n['name'][:4] == 'proj' and \\\n",
    "                       n['class'] == 'LeakyIAF'])\n",
    "    N = len(neu_proj)\n",
    "    \n",
    "    # create a plot for membrane potential output from 'neuron1'\n",
    "    V.add_LPU(out_file_name,\n",
    "              gexf_file= lpu_file_name, LPU='Generic LPU %i' % i, dt = dt)\n",
    "    #neu_proj = [s for s in V._uids[\"Generic LPU 0\"][\"spike_state\"] if s.startswith('proj')]\n",
    "    V.add_plot({'type': 'raster', 'uids': [neu_proj], 'variable': 'spike_state', 'title': 'Output - LPU %i' % i,\n",
    "                'yticks': range(1,1+N),\n",
    "                'yticklabels': neu_proj},\n",
    "                'Generic LPU %i' % i)\n",
    "\n",
    "V._update_interval = None\n",
    "V.rows = 3\n",
    "V.cols = 1\n",
    "V.fontsize = 15\n",
    "\n",
    "V.dt = 0.01\n",
    "V.xlim = [0, 1.0]\n",
    "V.figsize = (16, 12)\n",
    "\n",
    "V.run('intro_output.png')\n",
    "\n",
    "# Don't automatically display the output image:\n",
    "plt.close(plt.gcf())"
   ]
  },
  {
   "cell_type": "markdown",
   "metadata": {},
   "source": [
    "The output rendered to an image for two connected LPUs is shown below:"
   ]
  },
  {
   "cell_type": "code",
   "execution_count": null,
   "metadata": {},
   "outputs": [],
   "source": [
    "from IPython.display import Image\n",
    "\n",
    "Image(filename = 'intro_output.png')"
   ]
  },
  {
   "cell_type": "markdown",
   "metadata": {},
   "source": [
    "Here is the output of the LPUs with synaptic connections from neurons in LPU 0 to LPU 1 rendered to video:"
   ]
  },
  {
   "cell_type": "code",
   "execution_count": null,
   "metadata": {},
   "outputs": [],
   "source": [
    "import IPython\n",
    "IPython.display.YouTubeVideo('U2FGNbQ5ibg')"
   ]
  },
  {
   "cell_type": "markdown",
   "metadata": {},
   "source": [
    "To experiment with running LPUs unconnected please see neurodriver/examples/intro/intro_demo.py. The below video shows the output of two unconnected LPUs. "
   ]
  },
  {
   "cell_type": "code",
   "execution_count": null,
   "metadata": {},
   "outputs": [],
   "source": [
    "import IPython\n",
    "IPython.display.YouTubeVideo('FY810D-hhD8')"
   ]
  },
  {
   "cell_type": "markdown",
   "metadata": {},
   "source": [
    "If one compares the two videos, one will observe that the output of LPU 0 in both videos remains the same while that of LPU 1 exhibits changes when connected to LPU 0. This confirms that the one-way connectivity pattern defined earlier is transmitting data from one LPU to the other during model execution."
   ]
  },
  {
   "cell_type": "markdown",
   "metadata": {},
   "source": [
    "### References"
   ]
  },
  {
   "cell_type": "markdown",
   "metadata": {},
   "source": [
    "<a name=\"chiang_three-dimensional_2011\"></a>Chiang, A.-S., Lin, C.-Y., Chuang, C.-C., Chang, H.-M., Hsieh, C.-H., Yeh, C.-W., et al. (2011), Three-dimensional reconstruction of brain-wide wiring networks in Drosophila at single-cell resolution, Current Biology, 21, 1, 1–11, doi:10.1016/j.cub.2010.11.056"
   ]
  }
 ],
 "metadata": {
  "kernelspec": {
   "display_name": "Python 2",
   "language": "python",
   "name": "python2"
  },
  "language_info": {
   "codemirror_mode": {
    "name": "ipython",
    "version": 2
   },
   "file_extension": ".py",
   "mimetype": "text/x-python",
   "name": "python",
   "nbconvert_exporter": "python",
   "pygments_lexer": "ipython2",
   "version": "2.7.12"
  }
 },
 "nbformat": 4,
 "nbformat_minor": 1
}
